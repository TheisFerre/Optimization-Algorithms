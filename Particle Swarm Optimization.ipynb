{
 "cells": [
  {
   "cell_type": "markdown",
   "metadata": {},
   "source": [
    "# PARTICLE SWARM OPTIMIZATION"
   ]
  },
  {
   "cell_type": "code",
   "execution_count": 1,
   "metadata": {},
   "outputs": [],
   "source": [
    "import numpy as np\n",
    "import matplotlib.pyplot as plt\n",
    "from matplotlib.animation import FuncAnimation\n",
    "import sympy as sym\n",
    "from sympy.solvers import solve, solveset\n",
    "import sympy\n",
    "import random\n",
    "import mpmath\n",
    "from celluloid import Camera"
   ]
  },
  {
   "cell_type": "code",
   "execution_count": 2,
   "metadata": {},
   "outputs": [],
   "source": [
    "def func(*args):\n",
    "    return 0.02*args[0]**4 - 0.6*args[0]**3 - 35*args[0]**2 + 50*args[0]"
   ]
  },
  {
   "cell_type": "markdown",
   "metadata": {},
   "source": [
    "## Particle class"
   ]
  },
  {
   "cell_type": "code",
   "execution_count": 3,
   "metadata": {},
   "outputs": [],
   "source": [
    "class Particle:\n",
    "    def __init__(self, velocity, position, weights):\n",
    "        self.velocity = velocity\n",
    "        self.position = position\n",
    "        self.loss = np.inf\n",
    "        self.best_position = position\n",
    "        self.weights = weights\n",
    "    \n",
    "    def move(self):\n",
    "        \"\"\"\n",
    "        Move particle to a new position\n",
    "        \"\"\"\n",
    "        new_position = self.position + self.velocity\n",
    "        return new_position\n",
    "    \n",
    "    def Print_info(self):\n",
    "        \"\"\"\n",
    "        print particle information\n",
    "        \"\"\"\n",
    "        print('Velocity: {}'.format(self.velocity))\n",
    "        print('Position: {}'.format(self.position))\n",
    "    \n",
    "    def update_velocity(self, best_particle):\n",
    "        \"\"\"\n",
    "        Update velocity of particle\n",
    "        \"\"\"\n",
    "        global_best = self.weights[0] * random.random() * (best_particle.position - self.position)\n",
    "        known_best = self.weights[1] * random.random() * (self.best_position - self.position)\n",
    "        \n",
    "        new_velocity = self.weights[2] * self.velocity + global_best + known_best\n",
    "        return new_velocity"
   ]
  },
  {
   "cell_type": "markdown",
   "metadata": {},
   "source": [
    "## Particle Swarm class"
   ]
  },
  {
   "cell_type": "code",
   "execution_count": 12,
   "metadata": {},
   "outputs": [],
   "source": [
    "class ParticleSwarm:\n",
    "    \"\"\"\n",
    "    Particle swarm Class\n",
    "    \"\"\"\n",
    "    def __init__(self, function, variables, iterations, \n",
    "                 particles=10, track_movement=False, particle_weights = (2, 1, 0.5)):\n",
    "        \n",
    "        def create_particles(num_particles):\n",
    "            \"\"\"\n",
    "            Helper function for creating particles\n",
    "            \"\"\"\n",
    "            particles = []\n",
    "            for i in range(num_particles):\n",
    "                velocity = random.random()\n",
    "                position = random.choice([-1,1]) * 500 * random.random()\n",
    "                weights = particle_weights\n",
    "                particles.append(Particle(velocity, position, weights))\n",
    "            return particles\n",
    "        \n",
    "        self.function = function\n",
    "        self.iterations = iterations\n",
    "        self.variables = variables\n",
    "        self.particles = create_particles(particles)\n",
    "        \n",
    "        self.optimal_value = self.opt_val_func()\n",
    "        self.track_movement = track_movement \n",
    "        \n",
    "    \n",
    "    def get_derivative(self):\n",
    "        \"\"\"\n",
    "        Compute Derivate of 1-variable function\n",
    "        \"\"\"\n",
    "        variables = sym.symbols(*self.variables)\n",
    "        func_out = self.function(variables)\n",
    "        return sym.diff(func_out)\n",
    "    \n",
    "    def opt_val_func(self):\n",
    "        \"\"\"\n",
    "        Compute roots of Function\n",
    "        \"\"\"\n",
    "        variables = sym.symbols(*self.variables)\n",
    "        return solveset(self.get_derivative(), variables)\n",
    "    \n",
    "    def loss_particle(self, position):\n",
    "        \"\"\"\n",
    "        Compute function value for a position\n",
    "        \"\"\"\n",
    "        loss = self.function(position)\n",
    "        return loss\n",
    "    \n",
    "    def get_best_particle(self):\n",
    "        \"\"\"\n",
    "        Finding the best positioned particle\n",
    "        \"\"\"\n",
    "        best_loss = np.inf\n",
    "        best_part = None\n",
    "        for particle in self.particles:\n",
    "            particle.loss = self.loss_particle(particle.position)\n",
    "            if particle.loss < best_loss:\n",
    "                best_part = particle\n",
    "                best_loss = best_part.loss\n",
    "        return best_part\n",
    "            \n",
    "    \n",
    "    def optimize_swarm(self):\n",
    "        \"\"\"\n",
    "        Optimize swarm\n",
    "        \"\"\"\n",
    "        best_part = self.get_best_particle()\n",
    "        best_loss = best_part.loss\n",
    "        \n",
    "        if self.track_movement:\n",
    "            positions_list = np.array([])\n",
    "            velocity_list = np.array([])\n",
    "        \n",
    "        for i in range(self.iterations):\n",
    "            current_best = best_loss\n",
    "            for particle in self.particles:\n",
    "                if self.track_movement:\n",
    "                    positions_list = np.append(positions_list, particle.position)\n",
    "                    velocity_list = np.append(velocity_list, particle.velocity)\n",
    "                    \n",
    "                particle.velocity = particle.update_velocity(best_part)\n",
    "                particle.position = particle.move()\n",
    "                particle.loss = self.loss_particle(particle.position)\n",
    "                \n",
    "                if particle.loss  < self.loss_particle(particle.best_position):\n",
    "                    particle.best_position = particle.position\n",
    "\n",
    "                if self.loss_particle(particle.best_position) < best_loss:\n",
    "                    best_part = particle\n",
    "                    best_loss = particle.loss\n",
    "                    \n",
    "        if self.track_movement:\n",
    "            positions_list = np.reshape(positions_list, (i+1, -1))\n",
    "            velocity_list = np.reshape(velocity_list, (i+1, -1))\n",
    "            return dict({'positions': positions_list, 'velocities':velocity_list})\n",
    "        else:\n",
    "            return\n",
    "    \n",
    "    def generate_gif(self):\n",
    "        \"\"\"\n",
    "        Generate GIF of swarm optimization\n",
    "        \"\"\"\n",
    "        roots = [root for root in self.optimal_value]\n",
    "        roots_val = [self.function(root) for root in roots]\n",
    "        derivative = self.get_derivative()\n",
    "        \n",
    "        x_list = []\n",
    "        y_list = []\n",
    "        for i in range(-100, 100):\n",
    "            i = i\n",
    "            x_list.append(i)\n",
    "            y_list.append(self.function(i))\n",
    "        \n",
    "        camera = Camera(plt.figure())\n",
    "        particles_dict = self.optimize_swarm()\n",
    "        val_positions = np.apply_along_axis(self.function, 0, particles_dict['positions'])\n",
    "\n",
    "        for i in range(self.iterations):\n",
    "            function, = plt.plot(x_list, y_list, c='b')\n",
    "            root_scat = plt.scatter(roots, roots_val, s=50, c='red')\n",
    "            swarm = plt.scatter(particles_dict['positions'][i,:], val_positions[i,:], c='black')\n",
    "            plt.legend([function, root_scat, swarm], \n",
    "                       [str(self.function(sym.symbols(*self.variables))), 'roots', 'particles'])\n",
    "\n",
    "            plt.xlim(-60, 80)\n",
    "            plt.ylim(min(y_list)*1.2, max(y_list)*0.1)\n",
    "            plt.title('Particle Swarm Optimization \\n Particle Weights: {}'.format(str(self.particles[0].weights)))\n",
    "\n",
    "            camera.snap()\n",
    "        anim = camera.animate(blit=True)\n",
    "        anim.save('PSO2.gif')"
   ]
  },
  {
   "cell_type": "markdown",
   "metadata": {},
   "source": [
    "## Generate GIF"
   ]
  },
  {
   "cell_type": "code",
   "execution_count": 13,
   "metadata": {},
   "outputs": [
    {
     "name": "stderr",
     "output_type": "stream",
     "text": [
      "MovieWriter ffmpeg unavailable. Trying to use pillow instead.\n"
     ]
    },
    {
     "data": {
      "image/png": "[encoded data removed]",
      "text/plain": [
       "<Figure size 432x288 with 1 Axes>"
      ]
     },
     "metadata": {
      "needs_background": "light"
     },
     "output_type": "display_data"
    }
   ],
   "source": [
    "swarm = ParticleSwarm(func, 'x', 100, particles=50, track_movement=True, particle_weights=(0.6, 0.8, 0.2))\n",
    "swarm.generate_gif()"
   ]
  },
  {
   "cell_type": "code",
   "execution_count": null,
   "metadata": {},
   "outputs": [],
   "source": []
  }
 ],
 "metadata": {
  "kernelspec": {
   "display_name": "Python 3",
   "language": "python",
   "name": "python3"
  },
  "language_info": {
   "codemirror_mode": {
    "name": "ipython",
    "version": 3
   },
   "file_extension": ".py",
   "mimetype": "text/x-python",
   "name": "python",
   "nbconvert_exporter": "python",
   "pygments_lexer": "ipython3",
   "version": "3.7.3"
  }
 },
 "nbformat": 4,
 "nbformat_minor": 2
}
